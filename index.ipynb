{
 "cells": [
  {
   "cell_type": "markdown",
   "metadata": {},
   "source": [
    "# Project - Building a Calculator\n",
    "\n",
    "\n",
    "## Introduction \n",
    "\n",
    "In this project, you'll create a simple calculator which can perform basic arithmetic operations like addition, subtraction, multiplication or division depending upon the user input.\n",
    "\n",
    "## Objectives\n",
    "\n",
    "You will be able to:\n",
    "\n",
    "* Perform operations on various data types \n",
    "* Use loops to perform iteration \n",
    "* Use conditionals to make programming decisions\n",
    "* Define and use functions \n",
    "* Ingest and parse user input \n",
    "\n",
    "## Approach \n",
    "\n",
    "* User choose the desired operation. Options 1, 2, 3, 4 are valid options for operations.  \n",
    "* Two numbers are taken and an `if…elif…else` branching is used to execute a particular section.\n",
    "\n",
    "* Using functions `add()`, `subtract()`, `multiply()` and `divide()` evaluate respective operations.\n",
    "\n",
    "* The code should handle exceptions and must return **\"invalid input*** when an unexpected character is given in the input (anything other than 1 - 4).\n",
    "\n",
    "## Example Interface\n",
    "Here is the interface you are expected to build. Don't worry if it is not 100% exactly as what is shown. Focus more on the getting the logic correct at this stage. \n",
    "\n",
    "```\n",
    "Please select an operation:\n",
    "1. Add\n",
    "2. Subtract\n",
    "3. Multiply\n",
    "4. Divide\n",
    "\n",
    "Select operations form 1, 2, 3, 4 : 1\n",
    "Enter first number : 20\n",
    "Enter second number : 13\n",
    "20 + 13 = 33\n",
    "```\n",
    "\n",
    "## Creating Arithmetic Functions\n",
    "\n",
    "We'll create four functions, one for each arithmetic operation which will perform the required operation and return the resulting value as shown below:"
   ]
  },
  {
   "cell_type": "code",
   "execution_count": 7,
   "metadata": {},
   "outputs": [],
   "source": [
    "# Function to add two numbers \n",
    "def add(num1, num2):\n",
    "    #Perform the calculation\n",
    "    result = num1 + num2\n",
    "    return result"
   ]
  },
  {
   "cell_type": "code",
   "execution_count": 8,
   "metadata": {},
   "outputs": [],
   "source": [
    "# Function to subtract two numbers \n",
    "def subtract(num1, num2):\n",
    "    #Perform the calculation\n",
    "    result = num1 - num2 \n",
    "    return result"
   ]
  },
  {
   "cell_type": "code",
   "execution_count": 9,
   "metadata": {},
   "outputs": [],
   "source": [
    "# Function to multiply two numbers\n",
    "def multiply(num1, num2):\n",
    "    #Perform the calculation\n",
    "    result = num1 * num2\n",
    "    return result"
   ]
  },
  {
   "cell_type": "code",
   "execution_count": 10,
   "metadata": {},
   "outputs": [],
   "source": [
    "# Function to divide two numbers\n",
    "def divide(num1, num2):\n",
    "    #Perform the calculation\n",
    "    result = num1/num2\n",
    "    return round(result,2)"
   ]
  },
  {
   "cell_type": "markdown",
   "metadata": {},
   "source": [
    "## Create a Command-line User Interface\n",
    "We'll now write the main program body to take user input and call the relevant function:"
   ]
  },
  {
   "cell_type": "code",
   "execution_count": 11,
   "metadata": {},
   "outputs": [],
   "source": [
    "# operation = input(\"Choose Operation: \")\n"
   ]
  },
  {
   "cell_type": "code",
   "execution_count": 11,
   "metadata": {},
   "outputs": [
    {
     "data": {
      "text/plain": [
       "'4'"
      ]
     },
     "execution_count": 11,
     "metadata": {},
     "output_type": "execute_result"
    }
   ],
   "source": [
    "operation"
   ]
  },
  {
   "cell_type": "code",
   "execution_count": null,
   "metadata": {},
   "outputs": [],
   "source": [
    "operation = None\n",
    "while True:\n",
    "    operation = input(\"Choose Operation:\")\n",
    "    if int(operation) == 1 or 2 or 3 or 4: #not in (\"1\", \"2\", \"3\", \"4\"):\n",
    "        \n",
    "    else:\n",
    "        print(\"Not an appropriate choice.\")"
   ]
  },
  {
   "cell_type": "code",
   "execution_count": 12,
   "metadata": {},
   "outputs": [
    {
     "name": "stdout",
     "output_type": "stream",
     "text": [
      "Please select operation \n",
      "\n",
      "1. Addition \n",
      "\n",
      "2. Substraction \n",
      "\n",
      "3. Multiplication \n",
      "\n",
      "4. Division \n",
      "\n",
      "Choose Operation:1\n",
      "Enter First Number: 2\n",
      "Enter Second Numeber: 3\n",
      "2.0 + 3.0 = 5.0\n"
     ]
    }
   ],
   "source": [
    "# Print user menu \n",
    "print('Please select operation \\n')\n",
    "print('1. Addition \\n')\n",
    "print('2. Substraction \\n')\n",
    "print('3. Multiplication \\n')\n",
    "print('4. Division \\n')\n",
    "\n",
    "# Take input from the user for operation , followed by numbers. \n",
    "while True:\n",
    "    operation = input(\"Choose Operation:\")\n",
    "    if operation not in (\"1\", \"2\", \"3\", \"4\"):\n",
    "        print(\"Not an appropriate choice.\")\n",
    "    else:\n",
    "        break\n",
    "operation = int(operation)          \n",
    "num1 = input(\"Enter First Number: \")\n",
    "num1 = float(num1)\n",
    "num2 = input(\"Enter Second Numeber: \")\n",
    "num2 = float(num2)\n",
    "\n",
    "# Based on operation, pass the two numbers to respective function\n",
    "result = None\n",
    "if operation == 1: \n",
    "    result = add(num1,num2)\n",
    "    print(num1, \"+\", num2, \"=\", result)\n",
    "elif operation == 2:\n",
    "    result = subtract(num1,num2)\n",
    "    print(num1, \"-\", num2, \"=\", result)\n",
    "elif operation == 3:\n",
    "    result = multiply(num1,num2)\n",
    "    print(num1, \"*\", num2, \"=\", result)\n",
    "elif operation == 4: \n",
    "    reseult == divide(num1, num2)\n",
    "    print(num1, \"/\", num2, \"=\", result)\n",
    "else:\n",
    "    print(\"Invlaid In put\")\n",
    "# Print the output in a nice manner\n",
    "\n",
    "# Print \"Invalid input\" if an unexpected character is seen in input\n",
    "\n",
    "\n",
    "# Expected output    \n",
    "\n",
    "# Please select operation -\n",
    "# 1. Add\n",
    "# 2. Subtract\n",
    "# 3. Multiply\n",
    "# 4. Divide\n",
    "\n",
    "# Select operations form 1, 2, 3, 4 :1\n",
    "# Enter first number: 2\n",
    "# Enter second number: 3\n",
    "# 2 + 3 = 5"
   ]
  },
  {
   "cell_type": "markdown",
   "metadata": {},
   "source": [
    "## Bring in the While loop\n",
    "\n",
    "We can see how the logic set by using if-else statements, along with functions can be used to control the flow of the program in an easy way. Let's add more functionality to our calculator as below:\n",
    "\n",
    ">Let's try to make it a bit more interesting by introducing the behaviour of a real calculator so our users can choose to either continue with calculations OR exit the system. Users gets this functionality by pressing `y` for yes and `n` for no towards continuation.\n",
    "\n",
    "## Example Interface\n",
    "\n",
    "**Notice `continue: y/n` at the bottom of interface.**\n",
    "\n",
    "```\n",
    "Please select an operation:\n",
    "1. Add\n",
    "2. Subtract\n",
    "3. Multiply\n",
    "4. Divide\n",
    "\n",
    "Select operations form 1, 2, 3, 4 : 1\n",
    "Enter first number : 20\n",
    "Enter second number : 13\n",
    "20 + 13 = 33\n",
    "\n",
    "Continue: y/n\n",
    "```\n",
    "\n",
    "Let's work towards implementing iteration into the equation and enclose above I/O interface inside a while loops."
   ]
  },
  {
   "cell_type": "code",
   "execution_count": null,
   "metadata": {},
   "outputs": [],
   "source": [
    "# Initialize the code with cont (continue) flag set to yes (y)\n",
    "\n",
    "cont = \"y\"\n",
    "\n",
    "# Check for user input after each iteration of the code in a while loop\n",
    "\n",
    "while cont == \"y\":\n",
    "    \n",
    "        # Enclose the I/O  code block inside the while loop\n",
    "        print('Please select operation \\n')\n",
    "        print('1. Addition \\n')\n",
    "        print('2. Substraction \\n')\n",
    "        print('3. Multiplication \\n')\n",
    "        print('4. Division \\n')\n",
    "\n",
    "        # Take input from the user for operation , followed by numbers. \n",
    "        while True:\n",
    "            operation = input(\"Choose Operation:\")\n",
    "            if operation not in (\"1\", \"2\", \"3\", \"4\"):\n",
    "                print(\"Not an appropriate choice.\")\n",
    "            else:\n",
    "                break\n",
    "        operation = int(operation)          \n",
    "        num1 = input(\"Enter First Number: \")\n",
    "        num1 = float(num1)\n",
    "        num2 = input(\"Enter Second Numeber: \")\n",
    "        num2 = float(num2)\n",
    "\n",
    "        # Based on operation, pass the two numbers to respective function\n",
    "        result = None\n",
    "        if operation == 1: \n",
    "            result = add(num1,num2)\n",
    "            print(num1, \"+\", num2, \"=\", result)\n",
    "        elif operation == 2:\n",
    "            result = subtract(num1,num2)\n",
    "            print(num1, \"-\", num2, \"=\", result)\n",
    "        elif operation == 3:\n",
    "            result = multiply(num1,num2)\n",
    "            print(num1, \"*\", num2, \"=\", result)\n",
    "        elif operation == 4: \n",
    "            reseult = divide(num1, num2)\n",
    "            print(num1, \"/\", num2, \"=\", result)\n",
    "        else:\n",
    "            print(\"Invlaid In put\")\n",
    "            \n",
    "        cont = input(\"Woud you like to continue? (y/n): \")\n",
    "        if cont == \"n\":\n",
    "            break\n",
    "\n",
    "#Expected output format\n",
    "\n",
    "# Select operations form 1, 2, 3, 4 :4\n",
    "# Enter first number: 5\n",
    "# Enter second number: 4\n",
    "# Press d for division and m for modulo operatorm\n",
    "# 5 / 4 = 1\n",
    "# Continue? y/n:y\n",
    "# Select operations form 1, 2, 3, 4 :4\n",
    "# Enter first number: 5\n",
    "# Enter second number: 4\n",
    "# Press d for division and m for modulo operatord\n",
    "# 5 / 4 = 1.25"
   ]
  },
  {
   "cell_type": "markdown",
   "metadata": {},
   "source": [
    "## Level up (Optional)\n",
    "\n",
    "The while loop shown above allows the iteration through the code until a specific input from user i.e. `n` is noticed. Let's add some more functionality to this code by asking users about the type of division they are interested in, and this could be either normal division (as before) or a modulo operator (shows remainder).\n",
    "\n",
    ">Change the code in the division function so that if a user selects division operation, the code should ask the user if he/she wants a normal division `/` (int) or `//` (float) , or a module `%` operator which only returns the remainder of a division. The program should return an exception for any other inputs. "
   ]
  },
  {
   "cell_type": "code",
   "execution_count": null,
   "metadata": {},
   "outputs": [],
   "source": [
    "def divide(num1, num2):\n",
    "    div = input('Press d for division and m for modulo operator')\n",
    "    result = None\n",
    "    if div == 'd':\n",
    "        result = num1 / num2\n",
    "        return result\n",
    "    elif div == 'm':\n",
    "        result = num1 % num2\n",
    "        return result\n",
    "    else:\n",
    "        print (\"Invalid input\")"
   ]
  },
  {
   "cell_type": "markdown",
   "metadata": {},
   "source": [
    "## Summary\n",
    "\n",
    "In this lab we saw how loops and conditions can be used to control the logic of a program execution based on user input. We started with building a simple calculator and incrementally added more functionality to it by adding loops for iteration and further conditions allowing different type of calculations. We also practiced User I/O by taking choices from the users and dealing with exceptions (unexpected input). "
   ]
  }
 ],
 "metadata": {
  "kernelspec": {
   "display_name": "Python 3",
   "language": "python",
   "name": "python3"
  },
  "language_info": {
   "codemirror_mode": {
    "name": "ipython",
    "version": 3
   },
   "file_extension": ".py",
   "mimetype": "text/x-python",
   "name": "python",
   "nbconvert_exporter": "python",
   "pygments_lexer": "ipython3",
   "version": "3.6.6"
  }
 },
 "nbformat": 4,
 "nbformat_minor": 2
}
